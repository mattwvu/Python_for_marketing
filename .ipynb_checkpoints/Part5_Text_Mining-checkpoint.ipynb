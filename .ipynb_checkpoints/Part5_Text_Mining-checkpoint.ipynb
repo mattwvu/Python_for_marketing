{
 "cells": [
  {
   "cell_type": "markdown",
   "id": "154a39ca-9632-43df-bdfb-6a1026074a6c",
   "metadata": {},
   "source": [
    "<h1>Text Mining</h1>"
   ]
  },
  {
   "cell_type": "markdown",
   "id": "12e4a1bc-a79a-48bc-b4e2-18111ef6e611",
   "metadata": {},
   "source": [
    "<h3>Natural Language Toolkit</h3>\n",
    "<p><a href =\"https://www.nltk.org/\">https://www.nltk.org/</a></p>"
   ]
  },
  {
   "cell_type": "code",
   "execution_count": 34,
   "id": "82e420d8-e757-4c70-84a3-35bc9558d788",
   "metadata": {},
   "outputs": [
    {
     "name": "stderr",
     "output_type": "stream",
     "text": [
      "[nltk_data] Downloading package punkt to\n",
      "[nltk_data]     C:\\Users\\Matt\\AppData\\Roaming\\nltk_data...\n",
      "[nltk_data]   Package punkt is already up-to-date!\n",
      "[nltk_data] Downloading package stopwords to\n",
      "[nltk_data]     C:\\Users\\Matt\\AppData\\Roaming\\nltk_data...\n",
      "[nltk_data]   Package stopwords is already up-to-date!\n",
      "[nltk_data] Downloading package wordnet to\n",
      "[nltk_data]     C:\\Users\\Matt\\AppData\\Roaming\\nltk_data...\n",
      "[nltk_data]   Package wordnet is already up-to-date!\n"
     ]
    },
    {
     "data": {
      "text/html": [
       "<div>\n",
       "<style scoped>\n",
       "    .dataframe tbody tr th:only-of-type {\n",
       "        vertical-align: middle;\n",
       "    }\n",
       "\n",
       "    .dataframe tbody tr th {\n",
       "        vertical-align: top;\n",
       "    }\n",
       "\n",
       "    .dataframe thead th {\n",
       "        text-align: right;\n",
       "    }\n",
       "</style>\n",
       "<table border=\"1\" class=\"dataframe\">\n",
       "  <thead>\n",
       "    <tr style=\"text-align: right;\">\n",
       "      <th></th>\n",
       "      <th>Username</th>\n",
       "      <th>Rating</th>\n",
       "      <th>Review</th>\n",
       "    </tr>\n",
       "  </thead>\n",
       "  <tbody>\n",
       "    <tr>\n",
       "      <th>0</th>\n",
       "      <td>Heather M.</td>\n",
       "      <td>5</td>\n",
       "      <td>I've eaten breakfast, lunch and dinner at this...</td>\n",
       "    </tr>\n",
       "    <tr>\n",
       "      <th>1</th>\n",
       "      <td>Erin p.</td>\n",
       "      <td>5</td>\n",
       "      <td>Awesome new cafe in Morgantown!  Food was deli...</td>\n",
       "    </tr>\n",
       "    <tr>\n",
       "      <th>2</th>\n",
       "      <td>David D.</td>\n",
       "      <td>1</td>\n",
       "      <td>today I had yet another rude interaction from ...</td>\n",
       "    </tr>\n",
       "    <tr>\n",
       "      <th>3</th>\n",
       "      <td>Mark R.</td>\n",
       "      <td>5</td>\n",
       "      <td>excellent selection great staff and venue park...</td>\n",
       "    </tr>\n",
       "    <tr>\n",
       "      <th>4</th>\n",
       "      <td>A B.</td>\n",
       "      <td>5</td>\n",
       "      <td>This place is so cool! It's like a Starbucks w...</td>\n",
       "    </tr>\n",
       "    <tr>\n",
       "      <th>5</th>\n",
       "      <td>Lisa L.</td>\n",
       "      <td>1</td>\n",
       "      <td>Wow. Wow. Wow. Where to begin? The space is we...</td>\n",
       "    </tr>\n",
       "    <tr>\n",
       "      <th>6</th>\n",
       "      <td>Allie H.</td>\n",
       "      <td>4</td>\n",
       "      <td>Whether you want coffee or beer, this place ha...</td>\n",
       "    </tr>\n",
       "    <tr>\n",
       "      <th>7</th>\n",
       "      <td>Stephanie E.</td>\n",
       "      <td>5</td>\n",
       "      <td>Super cute coffee spot located in a plaza with...</td>\n",
       "    </tr>\n",
       "    <tr>\n",
       "      <th>8</th>\n",
       "      <td>Ed L.</td>\n",
       "      <td>5</td>\n",
       "      <td>I went there to take some photos and do some e...</td>\n",
       "    </tr>\n",
       "    <tr>\n",
       "      <th>9</th>\n",
       "      <td>Andrew C.</td>\n",
       "      <td>5</td>\n",
       "      <td>Yummy food, good coffee, friendly service, nic...</td>\n",
       "    </tr>\n",
       "    <tr>\n",
       "      <th>10</th>\n",
       "      <td>Rick P.</td>\n",
       "      <td>5</td>\n",
       "      <td>Good coffee, atmosphere was conducive to study...</td>\n",
       "    </tr>\n",
       "    <tr>\n",
       "      <th>11</th>\n",
       "      <td>Neva S.</td>\n",
       "      <td>5</td>\n",
       "      <td>Holy cow Batman! I love this place! Sugar free...</td>\n",
       "    </tr>\n",
       "    <tr>\n",
       "      <th>12</th>\n",
       "      <td>Becca F.</td>\n",
       "      <td>3</td>\n",
       "      <td>Pros:The location is great for this area. The ...</td>\n",
       "    </tr>\n",
       "    <tr>\n",
       "      <th>13</th>\n",
       "      <td>Brooke L.</td>\n",
       "      <td>5</td>\n",
       "      <td>I had heard wonderful things about this place ...</td>\n",
       "    </tr>\n",
       "    <tr>\n",
       "      <th>14</th>\n",
       "      <td>Katie B.</td>\n",
       "      <td>3</td>\n",
       "      <td>Always feel confused and rushed when ordering....</td>\n",
       "    </tr>\n",
       "  </tbody>\n",
       "</table>\n",
       "</div>"
      ],
      "text/plain": [
       "        Username  Rating                                             Review\n",
       "0     Heather M.       5  I've eaten breakfast, lunch and dinner at this...\n",
       "1        Erin p.       5  Awesome new cafe in Morgantown!  Food was deli...\n",
       "2       David D.       1  today I had yet another rude interaction from ...\n",
       "3        Mark R.       5  excellent selection great staff and venue park...\n",
       "4           A B.       5  This place is so cool! It's like a Starbucks w...\n",
       "5        Lisa L.       1  Wow. Wow. Wow. Where to begin? The space is we...\n",
       "6       Allie H.       4  Whether you want coffee or beer, this place ha...\n",
       "7   Stephanie E.       5  Super cute coffee spot located in a plaza with...\n",
       "8          Ed L.       5  I went there to take some photos and do some e...\n",
       "9      Andrew C.       5  Yummy food, good coffee, friendly service, nic...\n",
       "10       Rick P.       5  Good coffee, atmosphere was conducive to study...\n",
       "11       Neva S.       5  Holy cow Batman! I love this place! Sugar free...\n",
       "12      Becca F.       3  Pros:The location is great for this area. The ...\n",
       "13     Brooke L.       5  I had heard wonderful things about this place ...\n",
       "14      Katie B.       3  Always feel confused and rushed when ordering...."
      ]
     },
     "execution_count": 34,
     "metadata": {},
     "output_type": "execute_result"
    }
   ],
   "source": [
    "# load up libraries\n",
    "import pandas as pd\n",
    "import string\n",
    "import nltk\n",
    "from nltk.corpus import stopwords\n",
    "from nltk.tokenize import word_tokenize\n",
    "from nltk.stem import WordNetLemmatizer\n",
    "from nltk.sentiment import SentimentIntensityAnalyzer\n",
    "\n",
    "# Download NLTK resources\n",
    "nltk.download('punkt')\n",
    "nltk.download('stopwords')\n",
    "nltk.download('wordnet')\n",
    "nltk.download('vader_lexicon')\n"
   ]
  },
  {
   "cell_type": "code",
   "execution_count": 117,
   "id": "89d6284e-fa43-46c3-b4ac-7c3176889d18",
   "metadata": {},
   "outputs": [
    {
     "name": "stdout",
     "output_type": "stream",
     "text": [
      "Date range: 2013-07-07 00:00:00 to 2024-05-03 00:00:00\n"
     ]
    }
   ],
   "source": [
    "# load the dataframe\n",
    "review = pd.read_csv(\"bartini_reviews.csv\")\n",
    "\n",
    "# remove na values\n",
    "\n",
    "review = review.dropna()\n",
    "\n",
    "\n",
    "# change Date to date value\n",
    "\n",
    "review[\"Date\"] = pd.to_datetime(review[\"Date\"])\n",
    "review\n",
    "\n",
    "print(f\"Date range: {review['Date'].min()} to {review['Date'].max()}\")"
   ]
  },
  {
   "cell_type": "markdown",
   "id": "52fc2425-27d8-4bf7-8472-3bb75a4fc00c",
   "metadata": {},
   "source": [
    "<h3>Tokenize</h3>\n",
    "<p>Splitting the text into individual words or \"tokens\"</p>"
   ]
  },
  {
   "cell_type": "code",
   "execution_count": 118,
   "id": "9fdc2341-249f-4ae1-8193-f89dc256e626",
   "metadata": {},
   "outputs": [
    {
     "data": {
      "text/html": [
       "<div>\n",
       "<style scoped>\n",
       "    .dataframe tbody tr th:only-of-type {\n",
       "        vertical-align: middle;\n",
       "    }\n",
       "\n",
       "    .dataframe tbody tr th {\n",
       "        vertical-align: top;\n",
       "    }\n",
       "\n",
       "    .dataframe thead th {\n",
       "        text-align: right;\n",
       "    }\n",
       "</style>\n",
       "<table border=\"1\" class=\"dataframe\">\n",
       "  <thead>\n",
       "    <tr style=\"text-align: right;\">\n",
       "      <th></th>\n",
       "      <th>Date</th>\n",
       "      <th>Username</th>\n",
       "      <th>Rating</th>\n",
       "      <th>Review</th>\n",
       "      <th>tokens</th>\n",
       "    </tr>\n",
       "  </thead>\n",
       "  <tbody>\n",
       "    <tr>\n",
       "      <th>1</th>\n",
       "      <td>2023-11-16</td>\n",
       "      <td>Donald F.</td>\n",
       "      <td>5.0</td>\n",
       "      <td>Went up to see the daughter in Morgantown! Wan...</td>\n",
       "      <td>[Went, up, to, see, the, daughter, in, Morgant...</td>\n",
       "    </tr>\n",
       "    <tr>\n",
       "      <th>2</th>\n",
       "      <td>2024-05-03</td>\n",
       "      <td>Marianne D.</td>\n",
       "      <td>3.0</td>\n",
       "      <td>The bartender was amazing and he made really g...</td>\n",
       "      <td>[The, bartender, was, amazing, and, he, made, ...</td>\n",
       "    </tr>\n",
       "    <tr>\n",
       "      <th>3</th>\n",
       "      <td>2023-07-29</td>\n",
       "      <td>Brooke T.</td>\n",
       "      <td>1.0</td>\n",
       "      <td>Shown are the appetizers of Cheesy Nachos with...</td>\n",
       "      <td>[Shown, are, the, appetizers, of, Cheesy, Nach...</td>\n",
       "    </tr>\n",
       "    <tr>\n",
       "      <th>4</th>\n",
       "      <td>2024-02-17</td>\n",
       "      <td>Sara L.</td>\n",
       "      <td>3.0</td>\n",
       "      <td>We walked in and immediately felt under dresse...</td>\n",
       "      <td>[We, walked, in, and, immediately, felt, under...</td>\n",
       "    </tr>\n",
       "    <tr>\n",
       "      <th>5</th>\n",
       "      <td>2024-03-12</td>\n",
       "      <td>Jen G.</td>\n",
       "      <td>5.0</td>\n",
       "      <td>Food was great. Service wonderful. One of the ...</td>\n",
       "      <td>[Food, was, great, ., Service, wonderful, ., O...</td>\n",
       "    </tr>\n",
       "    <tr>\n",
       "      <th>...</th>\n",
       "      <td>...</td>\n",
       "      <td>...</td>\n",
       "      <td>...</td>\n",
       "      <td>...</td>\n",
       "      <td>...</td>\n",
       "    </tr>\n",
       "    <tr>\n",
       "      <th>104</th>\n",
       "      <td>2013-08-15</td>\n",
       "      <td>Jimmy G.</td>\n",
       "      <td>5.0</td>\n",
       "      <td>What a great find in Morgantown! Upscale marti...</td>\n",
       "      <td>[What, a, great, find, in, Morgantown, !, Upsc...</td>\n",
       "    </tr>\n",
       "    <tr>\n",
       "      <th>105</th>\n",
       "      <td>2015-02-09</td>\n",
       "      <td>Sharon M.</td>\n",
       "      <td>1.0</td>\n",
       "      <td>Spent two nights at the Hilton Garden Inn. Cou...</td>\n",
       "      <td>[Spent, two, nights, at, the, Hilton, Garden, ...</td>\n",
       "    </tr>\n",
       "    <tr>\n",
       "      <th>106</th>\n",
       "      <td>2016-12-22</td>\n",
       "      <td>S M.</td>\n",
       "      <td>3.0</td>\n",
       "      <td>I have come here many many times.  Usually the...</td>\n",
       "      <td>[I, have, come, here, many, many, times, ., Us...</td>\n",
       "    </tr>\n",
       "    <tr>\n",
       "      <th>107</th>\n",
       "      <td>2014-10-01</td>\n",
       "      <td>J L.</td>\n",
       "      <td>1.0</td>\n",
       "      <td>The owner pulled a fast one and changed happy ...</td>\n",
       "      <td>[The, owner, pulled, a, fast, one, and, change...</td>\n",
       "    </tr>\n",
       "    <tr>\n",
       "      <th>108</th>\n",
       "      <td>2016-05-16</td>\n",
       "      <td>Pete C.</td>\n",
       "      <td>5.0</td>\n",
       "      <td>I went to Bartini this past weekend following ...</td>\n",
       "      <td>[I, went, to, Bartini, this, past, weekend, fo...</td>\n",
       "    </tr>\n",
       "  </tbody>\n",
       "</table>\n",
       "<p>99 rows × 5 columns</p>\n",
       "</div>"
      ],
      "text/plain": [
       "          Date     Username  Rating  \\\n",
       "1   2023-11-16    Donald F.     5.0   \n",
       "2   2024-05-03  Marianne D.     3.0   \n",
       "3   2023-07-29    Brooke T.     1.0   \n",
       "4   2024-02-17      Sara L.     3.0   \n",
       "5   2024-03-12       Jen G.     5.0   \n",
       "..         ...          ...     ...   \n",
       "104 2013-08-15     Jimmy G.     5.0   \n",
       "105 2015-02-09    Sharon M.     1.0   \n",
       "106 2016-12-22         S M.     3.0   \n",
       "107 2014-10-01         J L.     1.0   \n",
       "108 2016-05-16      Pete C.     5.0   \n",
       "\n",
       "                                                Review  \\\n",
       "1    Went up to see the daughter in Morgantown! Wan...   \n",
       "2    The bartender was amazing and he made really g...   \n",
       "3    Shown are the appetizers of Cheesy Nachos with...   \n",
       "4    We walked in and immediately felt under dresse...   \n",
       "5    Food was great. Service wonderful. One of the ...   \n",
       "..                                                 ...   \n",
       "104  What a great find in Morgantown! Upscale marti...   \n",
       "105  Spent two nights at the Hilton Garden Inn. Cou...   \n",
       "106  I have come here many many times.  Usually the...   \n",
       "107  The owner pulled a fast one and changed happy ...   \n",
       "108  I went to Bartini this past weekend following ...   \n",
       "\n",
       "                                                tokens  \n",
       "1    [Went, up, to, see, the, daughter, in, Morgant...  \n",
       "2    [The, bartender, was, amazing, and, he, made, ...  \n",
       "3    [Shown, are, the, appetizers, of, Cheesy, Nach...  \n",
       "4    [We, walked, in, and, immediately, felt, under...  \n",
       "5    [Food, was, great, ., Service, wonderful, ., O...  \n",
       "..                                                 ...  \n",
       "104  [What, a, great, find, in, Morgantown, !, Upsc...  \n",
       "105  [Spent, two, nights, at, the, Hilton, Garden, ...  \n",
       "106  [I, have, come, here, many, many, times, ., Us...  \n",
       "107  [The, owner, pulled, a, fast, one, and, change...  \n",
       "108  [I, went, to, Bartini, this, past, weekend, fo...  \n",
       "\n",
       "[99 rows x 5 columns]"
      ]
     },
     "execution_count": 118,
     "metadata": {},
     "output_type": "execute_result"
    }
   ],
   "source": [
    "review['tokens'] = review['Review'].apply(word_tokenize)\n",
    "review"
   ]
  },
  {
   "cell_type": "markdown",
   "id": "75334ba7-4523-404e-abc3-a28300d2e914",
   "metadata": {},
   "source": [
    "<h3>Stopwords</h3>\n",
    "<p>Removing common words that do not carry significant meaning</p>"
   ]
  },
  {
   "cell_type": "code",
   "execution_count": 119,
   "id": "09414bd0-41d4-4423-9112-384e6df2e3df",
   "metadata": {},
   "outputs": [
    {
     "data": {
      "text/html": [
       "<div>\n",
       "<style scoped>\n",
       "    .dataframe tbody tr th:only-of-type {\n",
       "        vertical-align: middle;\n",
       "    }\n",
       "\n",
       "    .dataframe tbody tr th {\n",
       "        vertical-align: top;\n",
       "    }\n",
       "\n",
       "    .dataframe thead th {\n",
       "        text-align: right;\n",
       "    }\n",
       "</style>\n",
       "<table border=\"1\" class=\"dataframe\">\n",
       "  <thead>\n",
       "    <tr style=\"text-align: right;\">\n",
       "      <th></th>\n",
       "      <th>Date</th>\n",
       "      <th>Username</th>\n",
       "      <th>Rating</th>\n",
       "      <th>Review</th>\n",
       "      <th>tokens</th>\n",
       "    </tr>\n",
       "  </thead>\n",
       "  <tbody>\n",
       "    <tr>\n",
       "      <th>1</th>\n",
       "      <td>2023-11-16</td>\n",
       "      <td>Donald F.</td>\n",
       "      <td>5.0</td>\n",
       "      <td>Went up to see the daughter in Morgantown! Wan...</td>\n",
       "      <td>[Went, see, daughter, Morgantown, !, Wanted, s...</td>\n",
       "    </tr>\n",
       "    <tr>\n",
       "      <th>2</th>\n",
       "      <td>2024-05-03</td>\n",
       "      <td>Marianne D.</td>\n",
       "      <td>3.0</td>\n",
       "      <td>The bartender was amazing and he made really g...</td>\n",
       "      <td>[bartender, amazing, made, really, good, drink...</td>\n",
       "    </tr>\n",
       "    <tr>\n",
       "      <th>3</th>\n",
       "      <td>2023-07-29</td>\n",
       "      <td>Brooke T.</td>\n",
       "      <td>1.0</td>\n",
       "      <td>Shown are the appetizers of Cheesy Nachos with...</td>\n",
       "      <td>[Shown, appetizers, Cheesy, Nachos, prime, fil...</td>\n",
       "    </tr>\n",
       "    <tr>\n",
       "      <th>4</th>\n",
       "      <td>2024-02-17</td>\n",
       "      <td>Sara L.</td>\n",
       "      <td>3.0</td>\n",
       "      <td>We walked in and immediately felt under dresse...</td>\n",
       "      <td>[walked, immediately, felt, dressed, ,, rolled...</td>\n",
       "    </tr>\n",
       "    <tr>\n",
       "      <th>5</th>\n",
       "      <td>2024-03-12</td>\n",
       "      <td>Jen G.</td>\n",
       "      <td>5.0</td>\n",
       "      <td>Food was great. Service wonderful. One of the ...</td>\n",
       "      <td>[Food, great, ., Service, wonderful, ., One, b...</td>\n",
       "    </tr>\n",
       "    <tr>\n",
       "      <th>...</th>\n",
       "      <td>...</td>\n",
       "      <td>...</td>\n",
       "      <td>...</td>\n",
       "      <td>...</td>\n",
       "      <td>...</td>\n",
       "    </tr>\n",
       "    <tr>\n",
       "      <th>104</th>\n",
       "      <td>2013-08-15</td>\n",
       "      <td>Jimmy G.</td>\n",
       "      <td>5.0</td>\n",
       "      <td>What a great find in Morgantown! Upscale marti...</td>\n",
       "      <td>[great, find, Morgantown, !, Upscale, martini,...</td>\n",
       "    </tr>\n",
       "    <tr>\n",
       "      <th>105</th>\n",
       "      <td>2015-02-09</td>\n",
       "      <td>Sharon M.</td>\n",
       "      <td>1.0</td>\n",
       "      <td>Spent two nights at the Hilton Garden Inn. Cou...</td>\n",
       "      <td>[Spent, two, nights, Hilton, Garden, Inn, ., C...</td>\n",
       "    </tr>\n",
       "    <tr>\n",
       "      <th>106</th>\n",
       "      <td>2016-12-22</td>\n",
       "      <td>S M.</td>\n",
       "      <td>3.0</td>\n",
       "      <td>I have come here many many times.  Usually the...</td>\n",
       "      <td>[come, many, many, times, ., Usually, food, st...</td>\n",
       "    </tr>\n",
       "    <tr>\n",
       "      <th>107</th>\n",
       "      <td>2014-10-01</td>\n",
       "      <td>J L.</td>\n",
       "      <td>1.0</td>\n",
       "      <td>The owner pulled a fast one and changed happy ...</td>\n",
       "      <td>[owner, pulled, fast, one, changed, happy, hou...</td>\n",
       "    </tr>\n",
       "    <tr>\n",
       "      <th>108</th>\n",
       "      <td>2016-05-16</td>\n",
       "      <td>Pete C.</td>\n",
       "      <td>5.0</td>\n",
       "      <td>I went to Bartini this past weekend following ...</td>\n",
       "      <td>[went, Bartini, past, weekend, following, cous...</td>\n",
       "    </tr>\n",
       "  </tbody>\n",
       "</table>\n",
       "<p>99 rows × 5 columns</p>\n",
       "</div>"
      ],
      "text/plain": [
       "          Date     Username  Rating  \\\n",
       "1   2023-11-16    Donald F.     5.0   \n",
       "2   2024-05-03  Marianne D.     3.0   \n",
       "3   2023-07-29    Brooke T.     1.0   \n",
       "4   2024-02-17      Sara L.     3.0   \n",
       "5   2024-03-12       Jen G.     5.0   \n",
       "..         ...          ...     ...   \n",
       "104 2013-08-15     Jimmy G.     5.0   \n",
       "105 2015-02-09    Sharon M.     1.0   \n",
       "106 2016-12-22         S M.     3.0   \n",
       "107 2014-10-01         J L.     1.0   \n",
       "108 2016-05-16      Pete C.     5.0   \n",
       "\n",
       "                                                Review  \\\n",
       "1    Went up to see the daughter in Morgantown! Wan...   \n",
       "2    The bartender was amazing and he made really g...   \n",
       "3    Shown are the appetizers of Cheesy Nachos with...   \n",
       "4    We walked in and immediately felt under dresse...   \n",
       "5    Food was great. Service wonderful. One of the ...   \n",
       "..                                                 ...   \n",
       "104  What a great find in Morgantown! Upscale marti...   \n",
       "105  Spent two nights at the Hilton Garden Inn. Cou...   \n",
       "106  I have come here many many times.  Usually the...   \n",
       "107  The owner pulled a fast one and changed happy ...   \n",
       "108  I went to Bartini this past weekend following ...   \n",
       "\n",
       "                                                tokens  \n",
       "1    [Went, see, daughter, Morgantown, !, Wanted, s...  \n",
       "2    [bartender, amazing, made, really, good, drink...  \n",
       "3    [Shown, appetizers, Cheesy, Nachos, prime, fil...  \n",
       "4    [walked, immediately, felt, dressed, ,, rolled...  \n",
       "5    [Food, great, ., Service, wonderful, ., One, b...  \n",
       "..                                                 ...  \n",
       "104  [great, find, Morgantown, !, Upscale, martini,...  \n",
       "105  [Spent, two, nights, Hilton, Garden, Inn, ., C...  \n",
       "106  [come, many, many, times, ., Usually, food, st...  \n",
       "107  [owner, pulled, fast, one, changed, happy, hou...  \n",
       "108  [went, Bartini, past, weekend, following, cous...  \n",
       "\n",
       "[99 rows x 5 columns]"
      ]
     },
     "execution_count": 119,
     "metadata": {},
     "output_type": "execute_result"
    }
   ],
   "source": [
    "stop_words = set(stopwords.words('english'))\n",
    "review['tokens'] = review['tokens'].apply(lambda x: [word for word in x if word.lower() not in stop_words and \"'\" not in word and \"`\" not in word])\n",
    "review"
   ]
  },
  {
   "cell_type": "markdown",
   "id": "1b5a3e48-3fd7-44db-9742-07cc923be838",
   "metadata": {},
   "source": [
    "<h3>Remove Punctation</h3>"
   ]
  },
  {
   "cell_type": "code",
   "execution_count": 120,
   "id": "1d5ecf72-29ff-4393-b877-d49fae3d60e9",
   "metadata": {},
   "outputs": [],
   "source": [
    "review['tokens'] = review['tokens'].apply(lambda x: [word for word in x if word not in string.punctuation])"
   ]
  },
  {
   "cell_type": "markdown",
   "id": "e1d50d80-65a7-46d8-81fd-9a4b3d0f42a1",
   "metadata": {},
   "source": [
    "<h3>Lemmatization</h3>\n",
    "<p>Reducing words to their base or root form</p>"
   ]
  },
  {
   "cell_type": "code",
   "execution_count": 121,
   "id": "dc8f4f6d-a4f8-45be-b8f3-dd272cc1b3d9",
   "metadata": {},
   "outputs": [],
   "source": [
    "lemmatizer = WordNetLemmatizer()\n",
    "review['tokens'] = review['tokens'].apply(lambda x: [lemmatizer.lemmatize(word) for word in x])"
   ]
  },
  {
   "cell_type": "markdown",
   "id": "6ef6cdc5-76d6-4622-8adf-02240649b8cc",
   "metadata": {},
   "source": [
    "<h2>Basic Analysis</h2>"
   ]
  },
  {
   "cell_type": "code",
   "execution_count": 20,
   "id": "0a46ce21-3d66-4a81-8b69-7c9b0411765a",
   "metadata": {},
   "outputs": [
    {
     "name": "stdout",
     "output_type": "stream",
     "text": [
      "Defaulting to user installation because normal site-packages is not writeable\n",
      "Collecting textblob\n",
      "  Downloading textblob-0.18.0.post0-py3-none-any.whl.metadata (4.5 kB)\n",
      "Requirement already satisfied: nltk>=3.8 in c:\\programdata\\anaconda3\\lib\\site-packages (from textblob) (3.8.1)\n",
      "Requirement already satisfied: click in c:\\programdata\\anaconda3\\lib\\site-packages (from nltk>=3.8->textblob) (8.1.7)\n",
      "Requirement already satisfied: joblib in c:\\programdata\\anaconda3\\lib\\site-packages (from nltk>=3.8->textblob) (1.2.0)\n",
      "Requirement already satisfied: regex>=2021.8.3 in c:\\programdata\\anaconda3\\lib\\site-packages (from nltk>=3.8->textblob) (2023.10.3)\n",
      "Requirement already satisfied: tqdm in c:\\programdata\\anaconda3\\lib\\site-packages (from nltk>=3.8->textblob) (4.65.0)\n",
      "Requirement already satisfied: colorama in c:\\programdata\\anaconda3\\lib\\site-packages (from click->nltk>=3.8->textblob) (0.4.6)\n",
      "Downloading textblob-0.18.0.post0-py3-none-any.whl (626 kB)\n",
      "   ---------------------------------------- 0.0/626.3 kB ? eta -:--:--\n",
      "    --------------------------------------- 10.2/626.3 kB ? eta -:--:--\n",
      "   -- ------------------------------------ 41.0/626.3 kB 393.8 kB/s eta 0:00:02\n",
      "   ------- -------------------------------- 122.9/626.3 kB 1.0 MB/s eta 0:00:01\n",
      "   ------- -------------------------------- 122.9/626.3 kB 1.0 MB/s eta 0:00:01\n",
      "   ------- -------------------------------- 122.9/626.3 kB 1.0 MB/s eta 0:00:01\n",
      "   ------------------------------ --------- 471.0/626.3 kB 2.0 MB/s eta 0:00:01\n",
      "   ---------------------------------------  624.6/626.3 kB 2.2 MB/s eta 0:00:01\n",
      "   ---------------------------------------  624.6/626.3 kB 2.2 MB/s eta 0:00:01\n",
      "   ---------------------------------------  624.6/626.3 kB 2.2 MB/s eta 0:00:01\n",
      "   ---------------------------------------  624.6/626.3 kB 2.2 MB/s eta 0:00:01\n",
      "   ---------------------------------------  624.6/626.3 kB 2.2 MB/s eta 0:00:01\n",
      "   ---------------------------------------  624.6/626.3 kB 2.2 MB/s eta 0:00:01\n",
      "   ---------------------------------------  624.6/626.3 kB 2.2 MB/s eta 0:00:01\n",
      "   ---------------------------------------  624.6/626.3 kB 2.2 MB/s eta 0:00:01\n",
      "   ---------------------------------------  624.6/626.3 kB 2.2 MB/s eta 0:00:01\n",
      "   -------------------------------------- 626.3/626.3 kB 895.5 kB/s eta 0:00:00\n",
      "Installing collected packages: textblob\n",
      "Successfully installed textblob-0.18.0.post0\n"
     ]
    }
   ],
   "source": [
    "!pip install textblob"
   ]
  },
  {
   "cell_type": "code",
   "execution_count": 69,
   "id": "c84807d8-b36a-4efa-9d0e-32d1ef06a5d9",
   "metadata": {},
   "outputs": [],
   "source": [
    "# load some libraries\n",
    "\n",
    "from collections import Counter\n",
    "import matplotlib.pyplot as plt\n",
    "from textblob import TextBlob\n"
   ]
  },
  {
   "cell_type": "markdown",
   "id": "9c6633f2-100a-4a7f-b2ad-0f1f6be957e6",
   "metadata": {},
   "source": [
    "<h3>Word Frequency Analysis</h3>"
   ]
  },
  {
   "cell_type": "code",
   "execution_count": 122,
   "id": "950988d5-f88c-4c1b-8b82-8c09cc8f8e6a",
   "metadata": {},
   "outputs": [
    {
     "name": "stdout",
     "output_type": "stream",
     "text": [
      "Top 10 frequent words: [('sushi', 60), ('good', 58), ('place', 54), ('food', 53), ('great', 47), ('drink', 43), ('restaurant', 36), ('steak', 35), ('night', 34), ('service', 31)]\n"
     ]
    }
   ],
   "source": [
    "word_freq = Counter(word for sublist in review['tokens'] for word in sublist)\n",
    "top_words = word_freq.most_common(10)\n",
    "print(\"Top 10 frequent words:\", top_words)"
   ]
  },
  {
   "cell_type": "code",
   "execution_count": 123,
   "id": "3ff8535a-3585-4399-aad8-13d46b616257",
   "metadata": {},
   "outputs": [
    {
     "data": {
      "image/png": "[encoded data removed]",
      "text/plain": [
       "<Figure size 640x480 with 1 Axes>"
      ]
     },
     "metadata": {},
     "output_type": "display_data"
    }
   ],
   "source": [
    "# visualize\n",
    "\n",
    "# Visualization of Word Frequencies\n",
    "plt.bar(*zip(*top_words))\n",
    "plt.xlabel('Words')\n",
    "plt.ylabel('Frequency')\n",
    "plt.title('Top 10 Frequent Words')\n",
    "plt.xticks(rotation=45)\n",
    "plt.show()"
   ]
  },
  {
   "cell_type": "markdown",
   "id": "be3724ff-7bf7-44b6-b587-f6581f399c67",
   "metadata": {},
   "source": [
    "<h3>Vader Sentiment Analyzer</h3>\n",
    "<p><a href =\"https://vadersentiment.readthedocs.io/e\">https://vadersentiment.readthedocs.io/</a></p>"
   ]
  },
  {
   "cell_type": "code",
   "execution_count": 124,
   "id": "9e8c08ce-7e9f-46fa-a8fe-ffa28750329c",
   "metadata": {},
   "outputs": [],
   "source": [
    "# Initialize the VADER sentiment analyzer\n",
    "sid = SentimentIntensityAnalyzer()"
   ]
  },
  {
   "cell_type": "code",
   "execution_count": 125,
   "id": "7761173e-cb82-41c7-86ec-0cb65a84451e",
   "metadata": {},
   "outputs": [],
   "source": [
    "# Function to analyze sentiment and return sentiment label\n",
    "def analyze_sentiment(tokens):\n",
    "    text = ' '.join(tokens)\n",
    "    scores = sid.polarity_scores(text)\n",
    "    if scores['compound'] >= 0.05:\n",
    "        return \"Positive\"\n",
    "    elif scores['compound'] <= -0.05:\n",
    "        return \"Negative\"\n",
    "    else:\n",
    "        return \"Neutral\"\n"
   ]
  },
  {
   "cell_type": "code",
   "execution_count": 126,
   "id": "6509aaf2-916d-499e-afb9-14a1f5be6f10",
   "metadata": {},
   "outputs": [],
   "source": [
    "# Apply sentiment analysis to each row of the DataFrame\n",
    "review['Opinion'] = review['tokens'].apply(analyze_sentiment)"
   ]
  },
  {
   "cell_type": "code",
   "execution_count": 127,
   "id": "28085a8c-d093-4391-8ca3-c12c89b1da44",
   "metadata": {},
   "outputs": [
    {
     "name": "stdout",
     "output_type": "stream",
     "text": [
      "                                                Review   Opinion\n",
      "1    Went up to see the daughter in Morgantown! Wan...  Positive\n",
      "2    The bartender was amazing and he made really g...  Positive\n",
      "3    Shown are the appetizers of Cheesy Nachos with...  Positive\n",
      "4    We walked in and immediately felt under dresse...  Positive\n",
      "5    Food was great. Service wonderful. One of the ...  Positive\n",
      "..                                                 ...       ...\n",
      "104  What a great find in Morgantown! Upscale marti...  Positive\n",
      "105  Spent two nights at the Hilton Garden Inn. Cou...  Negative\n",
      "106  I have come here many many times.  Usually the...  Positive\n",
      "107  The owner pulled a fast one and changed happy ...  Positive\n",
      "108  I went to Bartini this past weekend following ...  Positive\n",
      "\n",
      "[99 rows x 2 columns]\n"
     ]
    }
   ],
   "source": [
    "# Print the DataFrame with sentiment analysis results\n",
    "print(review[['Review', 'Opinion']])"
   ]
  },
  {
   "cell_type": "code",
   "execution_count": 128,
   "id": "90e57137-8cda-4bfe-803f-14b304408da8",
   "metadata": {},
   "outputs": [
    {
     "data": {
      "image/png": "[encoded data removed]",
      "text/plain": [
       "<Figure size 640x480 with 1 Axes>"
      ]
     },
     "metadata": {},
     "output_type": "display_data"
    }
   ],
   "source": [
    "#bar plot for opinion\n",
    "\n",
    "import seaborn as sns\n",
    "\n",
    "sns.countplot(data = review, x = \"Opinion\")\n",
    "\n",
    "# Add title and labels\n",
    "plt.title('Opinion Sentiment')\n",
    "plt.xlabel('')\n",
    "plt.ylabel('')\n",
    "\n",
    "# Show plot\n",
    "plt.show()\n"
   ]
  },
  {
   "cell_type": "code",
   "execution_count": 135,
   "id": "0e4a4cf2-26ce-4852-8d80-53881604dd55",
   "metadata": {},
   "outputs": [
    {
     "data": {
      "image/png": "[encoded data removed]",
      "text/plain": [
       "<Figure size 1200x600 with 1 Axes>"
      ]
     },
     "metadata": {},
     "output_type": "display_data"
    }
   ],
   "source": [
    "# Apply sentiment analysis to each row of the DataFrame\n",
    "review['Opinion'] = review['tokens'].apply(analyze_sentiment)\n",
    "\n",
    "# Aggregate sentiment over time\n",
    "review['month'] = review['Date'].dt.to_period('M')\n",
    "sentiment_over_time = review.groupby(['month', 'Opinion']).size().unstack(fill_value=0).reset_index()\n",
    "\n",
    "# Convert period to datetime\n",
    "sentiment_over_time['month'] = sentiment_over_time['month'].dt.to_timestamp()\n",
    "\n",
    "# Melt the DataFrame for seaborn compatibility\n",
    "sentiment_melted = sentiment_over_time.melt(id_vars='month', value_vars=['Positive', 'Negative', 'Neutral'], var_name='Sentiment', value_name='Count')\n",
    "\n",
    "# Plot the sentiment trends over time using seaborn\n",
    "plt.figure(figsize=(12, 6))\n",
    "sns.scatterplot(data=sentiment_melted, x='month', y='Count', hue='Sentiment', style='Sentiment', s=100)\n",
    "plt.title('Sentiment Analysis Over Time')\n",
    "plt.xlabel('Month')\n",
    "plt.ylabel('Number of Reviews')\n",
    "plt.xticks(rotation=45)\n",
    "plt.grid(True)\n",
    "plt.show()\n"
   ]
  },
  {
   "cell_type": "code",
   "execution_count": null,
   "id": "e0a8d4c0-4ab8-4a46-90bc-d46fe7fef317",
   "metadata": {},
   "outputs": [],
   "source": []
  }
 ],
 "metadata": {
  "kernelspec": {
   "display_name": "Python 3 (ipykernel)",
   "language": "python",
   "name": "python3"
  },
  "language_info": {
   "codemirror_mode": {
    "name": "ipython",
    "version": 3
   },
   "file_extension": ".py",
   "mimetype": "text/x-python",
   "name": "python",
   "nbconvert_exporter": "python",
   "pygments_lexer": "ipython3",
   "version": "3.11.7"
  }
 },
 "nbformat": 4,
 "nbformat_minor": 5
}
