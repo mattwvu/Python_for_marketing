{
 "cells": [
  {
   "cell_type": "markdown",
   "id": "154a39ca-9632-43df-bdfb-6a1026074a6c",
   "metadata": {},
   "source": [
    "<h1>Text Mining</h1>"
   ]
  },
  {
   "cell_type": "markdown",
   "id": "12e4a1bc-a79a-48bc-b4e2-18111ef6e611",
   "metadata": {},
   "source": [
    "<h3>Natural Language Toolkit</h3>\n",
    "<p><a href =\"https://www.nltk.org/\">https://www.nltk.org/</a></p>"
   ]
  },
  {
   "cell_type": "code",
   "execution_count": null,
   "id": "82e420d8-e757-4c70-84a3-35bc9558d788",
   "metadata": {},
   "outputs": [],
   "source": [
    "# load up libraries\n",
    "import pandas as pd\n",
    "import string\n",
    "import nltk\n",
    "from nltk.corpus import stopwords\n",
    "from nltk.tokenize import word_tokenize\n",
    "from nltk.stem import WordNetLemmatizer\n",
    "from nltk.sentiment import SentimentIntensityAnalyzer\n",
    "\n",
    "# Download NLTK resources\n",
    "nltk.download('punkt')\n",
    "nltk.download('stopwords')\n",
    "nltk.download('wordnet')\n",
    "nltk.download('vader_lexicon')\n"
   ]
  },
  {
   "cell_type": "code",
   "execution_count": null,
   "id": "89d6284e-fa43-46c3-b4ac-7c3176889d18",
   "metadata": {},
   "outputs": [],
   "source": [
    "# load the dataframe\n",
    "review = pd.read_csv(\"bartini_reviews.csv\")\n",
    "\n",
    "# remove na values\n",
    "\n",
    "review = review.dropna()\n",
    "\n",
    "\n",
    "# change Date to date value\n",
    "\n",
    "review[\"Date\"] = pd.to_datetime(review[\"Date\"])\n",
    "review\n",
    "\n",
    "print(f\"Date range: {review['Date'].min()} to {review['Date'].max()}\")"
   ]
  },
  {
   "cell_type": "markdown",
   "id": "52fc2425-27d8-4bf7-8472-3bb75a4fc00c",
   "metadata": {},
   "source": [
    "<h3>Tokenize</h3>\n",
    "<p>Splitting the text into individual words or \"tokens\"</p>"
   ]
  },
  {
   "cell_type": "code",
   "execution_count": null,
   "id": "9fdc2341-249f-4ae1-8193-f89dc256e626",
   "metadata": {},
   "outputs": [],
   "source": [
    "review['tokens'] = review['Review'].apply(word_tokenize)\n",
    "review"
   ]
  },
  {
   "cell_type": "markdown",
   "id": "75334ba7-4523-404e-abc3-a28300d2e914",
   "metadata": {},
   "source": [
    "<h3>Stopwords</h3>\n",
    "<p>Removing common words that do not carry significant meaning</p>"
   ]
  },
  {
   "cell_type": "code",
   "execution_count": null,
   "id": "09414bd0-41d4-4423-9112-384e6df2e3df",
   "metadata": {},
   "outputs": [],
   "source": [
    "stop_words = set(stopwords.words('english'))\n",
    "review['tokens'] = review['tokens'].apply(lambda x: [word for word in x if word.lower() not in stop_words and \"'\" not in word and \"`\" not in word])\n",
    "review"
   ]
  },
  {
   "cell_type": "markdown",
   "id": "1b5a3e48-3fd7-44db-9742-07cc923be838",
   "metadata": {},
   "source": [
    "<h3>Remove Punctation</h3>"
   ]
  },
  {
   "cell_type": "code",
   "execution_count": null,
   "id": "1d5ecf72-29ff-4393-b877-d49fae3d60e9",
   "metadata": {},
   "outputs": [],
   "source": [
    "review['tokens'] = review['tokens'].apply(lambda x: [word for word in x if word not in string.punctuation])"
   ]
  },
  {
   "cell_type": "markdown",
   "id": "e1d50d80-65a7-46d8-81fd-9a4b3d0f42a1",
   "metadata": {},
   "source": [
    "<h3>Lemmatization</h3>\n",
    "<p>Reducing words to their base or root form</p>"
   ]
  },
  {
   "cell_type": "code",
   "execution_count": null,
   "id": "dc8f4f6d-a4f8-45be-b8f3-dd272cc1b3d9",
   "metadata": {},
   "outputs": [],
   "source": [
    "lemmatizer = WordNetLemmatizer()\n",
    "review['tokens'] = review['tokens'].apply(lambda x: [lemmatizer.lemmatize(word) for word in x])"
   ]
  },
  {
   "cell_type": "markdown",
   "id": "6ef6cdc5-76d6-4622-8adf-02240649b8cc",
   "metadata": {},
   "source": [
    "<h2>Basic Analysis</h2>"
   ]
  },
  {
   "cell_type": "code",
   "execution_count": null,
   "id": "0a46ce21-3d66-4a81-8b69-7c9b0411765a",
   "metadata": {},
   "outputs": [],
   "source": [
    "!pip install textblob"
   ]
  },
  {
   "cell_type": "code",
   "execution_count": null,
   "id": "c84807d8-b36a-4efa-9d0e-32d1ef06a5d9",
   "metadata": {},
   "outputs": [],
   "source": [
    "# load some libraries\n",
    "\n",
    "from collections import Counter\n",
    "import matplotlib.pyplot as plt\n",
    "from textblob import TextBlob\n"
   ]
  },
  {
   "cell_type": "markdown",
   "id": "9c6633f2-100a-4a7f-b2ad-0f1f6be957e6",
   "metadata": {},
   "source": [
    "<h3>Word Frequency Analysis</h3>"
   ]
  },
  {
   "cell_type": "code",
   "execution_count": null,
   "id": "950988d5-f88c-4c1b-8b82-8c09cc8f8e6a",
   "metadata": {},
   "outputs": [],
   "source": [
    "word_freq = Counter(word for sublist in review['tokens'] for word in sublist)\n",
    "top_words = word_freq.most_common(10)\n",
    "print(\"Top 10 frequent words:\", top_words)"
   ]
  },
  {
   "cell_type": "code",
   "execution_count": null,
   "id": "3ff8535a-3585-4399-aad8-13d46b616257",
   "metadata": {},
   "outputs": [],
   "source": [
    "# visualize\n",
    "\n",
    "# Visualization of Word Frequencies\n",
    "plt.bar(*zip(*top_words))\n",
    "plt.xlabel('Words')\n",
    "plt.ylabel('Frequency')\n",
    "plt.title('Top 10 Frequent Words')\n",
    "plt.xticks(rotation=45)\n",
    "plt.show()"
   ]
  },
  {
   "cell_type": "markdown",
   "id": "be3724ff-7bf7-44b6-b587-f6581f399c67",
   "metadata": {},
   "source": [
    "<h3>Vader Sentiment Analyzer</h3>\n",
    "<p><a href =\"https://vadersentiment.readthedocs.io/e\">https://vadersentiment.readthedocs.io/</a></p>"
   ]
  },
  {
   "cell_type": "code",
   "execution_count": null,
   "id": "9e8c08ce-7e9f-46fa-a8fe-ffa28750329c",
   "metadata": {},
   "outputs": [],
   "source": [
    "# Initialize the VADER sentiment analyzer\n",
    "sid = SentimentIntensityAnalyzer()"
   ]
  },
  {
   "cell_type": "code",
   "execution_count": null,
   "id": "7761173e-cb82-41c7-86ec-0cb65a84451e",
   "metadata": {},
   "outputs": [],
   "source": [
    "# Function to analyze sentiment and return sentiment label\n",
    "def analyze_sentiment(tokens):\n",
    "    text = ' '.join(tokens)\n",
    "    scores = sid.polarity_scores(text)\n",
    "    if scores['compound'] >= 0.05:\n",
    "        return \"Positive\"\n",
    "    elif scores['compound'] <= -0.05:\n",
    "        return \"Negative\"\n",
    "    else:\n",
    "        return \"Neutral\"\n"
   ]
  },
  {
   "cell_type": "code",
   "execution_count": null,
   "id": "6509aaf2-916d-499e-afb9-14a1f5be6f10",
   "metadata": {},
   "outputs": [],
   "source": [
    "# Apply sentiment analysis to each row of the DataFrame\n",
    "review['Opinion'] = review['tokens'].apply(analyze_sentiment)"
   ]
  },
  {
   "cell_type": "code",
   "execution_count": null,
   "id": "28085a8c-d093-4391-8ca3-c12c89b1da44",
   "metadata": {},
   "outputs": [],
   "source": [
    "# Print the DataFrame with sentiment analysis results\n",
    "print(review[['Review', 'Opinion']])"
   ]
  },
  {
   "cell_type": "code",
   "execution_count": null,
   "id": "90e57137-8cda-4bfe-803f-14b304408da8",
   "metadata": {},
   "outputs": [],
   "source": [
    "#bar plot for opinion\n",
    "\n",
    "import seaborn as sns\n",
    "\n",
    "sns.countplot(data = review, x = \"Opinion\")\n",
    "\n",
    "# Add title and labels\n",
    "plt.title('Opinion Sentiment')\n",
    "plt.xlabel('')\n",
    "plt.ylabel('')\n",
    "\n",
    "# Show plot\n",
    "plt.show()\n"
   ]
  },
  {
   "cell_type": "code",
   "execution_count": null,
   "id": "0e4a4cf2-26ce-4852-8d80-53881604dd55",
   "metadata": {},
   "outputs": [],
   "source": [
    "# Apply sentiment analysis to each row of the DataFrame\n",
    "review['Opinion'] = review['tokens'].apply(analyze_sentiment)\n",
    "\n",
    "# Aggregate sentiment over time\n",
    "review['month'] = review['Date'].dt.to_period('M')\n",
    "sentiment_over_time = review.groupby(['month', 'Opinion']).size().unstack(fill_value=0).reset_index()\n",
    "\n",
    "# Convert period to datetime\n",
    "sentiment_over_time['month'] = sentiment_over_time['month'].dt.to_timestamp()\n",
    "\n",
    "# Melt the DataFrame for seaborn compatibility\n",
    "sentiment_melted = sentiment_over_time.melt(id_vars='month', value_vars=['Positive', 'Negative', 'Neutral'], var_name='Sentiment', value_name='Count')\n",
    "\n",
    "# Plot the sentiment trends over time using seaborn\n",
    "plt.figure(figsize=(12, 6))\n",
    "sns.scatterplot(data=sentiment_melted, x='month', y='Count', hue='Sentiment', style='Sentiment', s=100)\n",
    "plt.title('Sentiment Analysis Over Time')\n",
    "plt.xlabel('Month')\n",
    "plt.ylabel('Number of Reviews')\n",
    "plt.xticks(rotation=45)\n",
    "plt.grid(True)\n",
    "plt.show()\n"
   ]
  },
  {
   "cell_type": "code",
   "execution_count": null,
   "id": "e0a8d4c0-4ab8-4a46-90bc-d46fe7fef317",
   "metadata": {},
   "outputs": [],
   "source": []
  }
 ],
 "metadata": {
  "kernelspec": {
   "display_name": "Python 3 (ipykernel)",
   "language": "python",
   "name": "python3"
  },
  "language_info": {
   "codemirror_mode": {
    "name": "ipython",
    "version": 3
   },
   "file_extension": ".py",
   "mimetype": "text/x-python",
   "name": "python",
   "nbconvert_exporter": "python",
   "pygments_lexer": "ipython3",
   "version": "3.11.7"
  }
 },
 "nbformat": 4,
 "nbformat_minor": 5
}
